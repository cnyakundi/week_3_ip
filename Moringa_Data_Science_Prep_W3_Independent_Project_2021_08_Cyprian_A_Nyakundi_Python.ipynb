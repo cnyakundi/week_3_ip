{
 "cells": [
  {
   "cell_type": "code",
   "execution_count": 1,
   "metadata": {},
   "outputs": [],
   "source": [
    "import pandas as pd "
   ]
  },
  {
   "cell_type": "code",
   "execution_count": 5,
   "metadata": {},
   "outputs": [
    {
     "data": {
      "text/html": "<div>\n<style scoped>\n    .dataframe tbody tr th:only-of-type {\n        vertical-align: middle;\n    }\n\n    .dataframe tbody tr th {\n        vertical-align: top;\n    }\n\n    .dataframe thead th {\n        text-align: right;\n    }\n</style>\n<table border=\"1\" class=\"dataframe\">\n  <thead>\n    <tr style=\"text-align: right;\">\n      <th></th>\n      <th>;VILLES;STATUS;LOCALISATION;DECOUPZONE;ZONENAME;LONGITUDE;LATITUDE;REGION;AREA;CELL_ID;SITE_CODE</th>\n    </tr>\n  </thead>\n  <tbody>\n    <tr>\n      <th>0</th>\n      <td>0;ADJAME;In Service;ABIDJAN;\"\"\"Abidjan_EST\";AG...</td>\n    </tr>\n    <tr>\n      <th>1</th>\n      <td>1;ADJAME;In Service;ABIDJAN;\"\"\"Abidjan_EST\";AG...</td>\n    </tr>\n    <tr>\n      <th>2</th>\n      <td>2;ADJAME;In Service;ABIDJAN;\"\"\"Abidjan_EST\";AG...</td>\n    </tr>\n    <tr>\n      <th>3</th>\n      <td>3;ASSINIE;In Service;INTERIEUR;Grand-EST;\"ASSI...</td>\n    </tr>\n    <tr>\n      <th>4</th>\n      <td>4;ASSINIE;In Service;INTERIEUR;Grand-EST;\"ASSI...</td>\n    </tr>\n    <tr>\n      <th>...</th>\n      <td>...</td>\n    </tr>\n    <tr>\n      <th>3969</th>\n      <td>3969;ZUENOULA;In Service;INTERIEUR;Grand-NORD;...</td>\n    </tr>\n    <tr>\n      <th>3970</th>\n      <td>3970;ZUENOULA;In Service;INTERIEUR;Grand-NORD;...</td>\n    </tr>\n    <tr>\n      <th>3971</th>\n      <td>3971;ZUENOULA;In Service;INTERIEUR;Grand-NORD;...</td>\n    </tr>\n    <tr>\n      <th>3972</th>\n      <td>3972;ZUENOULA;In Service;INTERIEUR;Grand-NORD;...</td>\n    </tr>\n    <tr>\n      <th>3973</th>\n      <td>3973;ZUENOULA;In Service;INTERIEUR;Grand-NORD;...</td>\n    </tr>\n  </tbody>\n</table>\n<p>3974 rows × 1 columns</p>\n</div>",
      "text/plain": "     ;VILLES;STATUS;LOCALISATION;DECOUPZONE;ZONENAME;LONGITUDE;LATITUDE;REGION;AREA;CELL_ID;SITE_CODE\n0     0;ADJAME;In Service;ABIDJAN;\"\"\"Abidjan_EST\";AG...                                              \n1     1;ADJAME;In Service;ABIDJAN;\"\"\"Abidjan_EST\";AG...                                              \n2     2;ADJAME;In Service;ABIDJAN;\"\"\"Abidjan_EST\";AG...                                              \n3     3;ASSINIE;In Service;INTERIEUR;Grand-EST;\"ASSI...                                              \n4     4;ASSINIE;In Service;INTERIEUR;Grand-EST;\"ASSI...                                              \n...                                                 ...                                              \n3969  3969;ZUENOULA;In Service;INTERIEUR;Grand-NORD;...                                              \n3970  3970;ZUENOULA;In Service;INTERIEUR;Grand-NORD;...                                              \n3971  3971;ZUENOULA;In Service;INTERIEUR;Grand-NORD;...                                              \n3972  3972;ZUENOULA;In Service;INTERIEUR;Grand-NORD;...                                              \n3973  3973;ZUENOULA;In Service;INTERIEUR;Grand-NORD;...                                              \n\n[3974 rows x 1 columns]"
     },
     "execution_count": 5,
     "metadata": {},
     "output_type": "execute_result"
    }
   ],
   "source": [
    "# We first load the Cells Geo data frame by using the Read CSV method \n",
    "\n",
    "dfcells_geo = pd.read_csv('cells_geo.csv')\n",
    "\n",
    "dfcells_geo"
   ]
  },
  {
   "cell_type": "code",
   "execution_count": 15,
   "metadata": {},
   "outputs": [
    {
     "data": {
      "text/html": "<div>\n<style scoped>\n    .dataframe tbody tr th:only-of-type {\n        vertical-align: middle;\n    }\n\n    .dataframe tbody tr th {\n        vertical-align: top;\n    }\n\n    .dataframe thead th {\n        text-align: right;\n    }\n</style>\n<table border=\"1\" class=\"dataframe\">\n  <thead>\n    <tr style=\"text-align: right;\">\n      <th></th>\n      <th>PRODUTC</th>\n      <th>VALUE</th>\n      <th>DATETIME</th>\n      <th>CELL_ON_SITE</th>\n      <th>DW_A_NUMBER_INT</th>\n      <th>DW_B_NUMBER_INT</th>\n      <th>COUNTRY_A</th>\n      <th>COUNTRY_B</th>\n      <th>CELL_ID</th>\n      <th>SITE_ID</th>\n    </tr>\n  </thead>\n  <tbody>\n    <tr>\n      <th>0</th>\n      <td>Voice</td>\n      <td>0</td>\n      <td>2012-05-06 23:04:37.0</td>\n      <td>1</td>\n      <td>49fae048b547780</td>\n      <td>1a49f8b0ded9de6</td>\n      <td>19e2e</td>\n      <td>19e2e</td>\n      <td>/TJNe+Mmtu</td>\n      <td>/TJNe+Mmtu</td>\n    </tr>\n    <tr>\n      <th>1</th>\n      <td>sms</td>\n      <td>0</td>\n      <td>2012-05-06 23:05:25.0</td>\n      <td>0</td>\n      <td>7a54a6eaee19e65</td>\n      <td>93343ba6e41af95</td>\n      <td>19e2e</td>\n      <td>19e2e</td>\n      <td>/+cKZKIp41</td>\n      <td>/+cKZKIp41</td>\n    </tr>\n    <tr>\n      <th>2</th>\n      <td>sms</td>\n      <td>25</td>\n      <td>2012-05-06 23:05:41.0</td>\n      <td>0</td>\n      <td>6008887b0207d82</td>\n      <td>7aacc9709ce0a20</td>\n      <td>19e2e</td>\n      <td>19e2e</td>\n      <td>/u0FSD+ahi</td>\n      <td>/u0FSD+ahi</td>\n    </tr>\n    <tr>\n      <th>3</th>\n      <td>Voice</td>\n      <td>56</td>\n      <td>2012-05-06 23:05:42.0</td>\n      <td>1</td>\n      <td>7370032e20f4e96</td>\n      <td>6af4a60e74c91d3</td>\n      <td>19e2e</td>\n      <td>19e2e</td>\n      <td>+cNeJzsTp3</td>\n      <td>+cNeJzsTp3</td>\n    </tr>\n    <tr>\n      <th>4</th>\n      <td>Voice</td>\n      <td>14</td>\n      <td>2012-05-06 23:06:29.0</td>\n      <td>1</td>\n      <td>966ba4656e38e62</td>\n      <td>02aa736ee555d5c</td>\n      <td>19e2e</td>\n      <td>19e2e</td>\n      <td>051KhYDCpv</td>\n      <td>051KhYDCpv</td>\n    </tr>\n    <tr>\n      <th>...</th>\n      <td>...</td>\n      <td>...</td>\n      <td>...</td>\n      <td>...</td>\n      <td>...</td>\n      <td>...</td>\n      <td>...</td>\n      <td>...</td>\n      <td>...</td>\n      <td>...</td>\n    </tr>\n    <tr>\n      <th>4996</th>\n      <td>sms</td>\n      <td>100</td>\n      <td>2012-05-07 00:01:54.0</td>\n      <td>0</td>\n      <td>92e367d671f45c5</td>\n      <td>38811081cf82c90</td>\n      <td>19e2e</td>\n      <td>OTHER</td>\n      <td>0c2371d9bc</td>\n      <td>1e751d08a4</td>\n    </tr>\n    <tr>\n      <th>4997</th>\n      <td>Voice</td>\n      <td>1</td>\n      <td>2012-05-07 00:01:54.0</td>\n      <td>1</td>\n      <td>83b44b18238e602</td>\n      <td>6ec63d4aa5de5dd</td>\n      <td>19e2e</td>\n      <td>19e2e</td>\n      <td>5fb791cf56</td>\n      <td>65efe2bc62</td>\n    </tr>\n    <tr>\n      <th>4998</th>\n      <td>Voice</td>\n      <td>0</td>\n      <td>2012-05-07 00:01:54.0</td>\n      <td>1</td>\n      <td>49fae048b547780</td>\n      <td>1a49f8b0ded9de6</td>\n      <td>19e2e</td>\n      <td>19e2e</td>\n      <td>7773627c12</td>\n      <td>9ef9616350</td>\n    </tr>\n    <tr>\n      <th>4999</th>\n      <td>Voice</td>\n      <td>0</td>\n      <td>2012-05-07 00:01:54.0</td>\n      <td>0</td>\n      <td>a1613f1a992716a</td>\n      <td>bd663f07b6c8bcd</td>\n      <td>19e2e</td>\n      <td>19e2e</td>\n      <td>3f4af49d6c</td>\n      <td>969b8d0e39</td>\n    </tr>\n    <tr>\n      <th>5000</th>\n      <td>Voice</td>\n      <td>7</td>\n      <td>2012-05-07 00:01:54.0</td>\n      <td>2</td>\n      <td>1670a5f7c22f4ed</td>\n      <td>3600efd094f2225</td>\n      <td>19e2e</td>\n      <td>19e2e</td>\n      <td>6f4d9b77a5</td>\n      <td>ebfc58af70</td>\n    </tr>\n  </tbody>\n</table>\n<p>5001 rows × 10 columns</p>\n</div>",
      "text/plain": "     PRODUTC  VALUE               DATETIME CELL_ON_SITE  DW_A_NUMBER_INT  \\\n0      Voice      0  2012-05-06 23:04:37.0            1  49fae048b547780   \n1        sms      0  2012-05-06 23:05:25.0            0  7a54a6eaee19e65   \n2        sms     25  2012-05-06 23:05:41.0            0  6008887b0207d82   \n3      Voice     56  2012-05-06 23:05:42.0            1  7370032e20f4e96   \n4      Voice     14  2012-05-06 23:06:29.0            1  966ba4656e38e62   \n...      ...    ...                    ...          ...              ...   \n4996     sms    100  2012-05-07 00:01:54.0            0  92e367d671f45c5   \n4997   Voice      1  2012-05-07 00:01:54.0            1  83b44b18238e602   \n4998   Voice      0  2012-05-07 00:01:54.0            1  49fae048b547780   \n4999   Voice      0  2012-05-07 00:01:54.0            0  a1613f1a992716a   \n5000   Voice      7  2012-05-07 00:01:54.0            2  1670a5f7c22f4ed   \n\n      DW_B_NUMBER_INT COUNTRY_A COUNTRY_B     CELL_ID     SITE_ID  \n0     1a49f8b0ded9de6     19e2e     19e2e  /TJNe+Mmtu  /TJNe+Mmtu  \n1     93343ba6e41af95     19e2e     19e2e  /+cKZKIp41  /+cKZKIp41  \n2     7aacc9709ce0a20     19e2e     19e2e  /u0FSD+ahi  /u0FSD+ahi  \n3     6af4a60e74c91d3     19e2e     19e2e  +cNeJzsTp3  +cNeJzsTp3  \n4     02aa736ee555d5c     19e2e     19e2e  051KhYDCpv  051KhYDCpv  \n...               ...       ...       ...         ...         ...  \n4996  38811081cf82c90     19e2e     OTHER  0c2371d9bc  1e751d08a4  \n4997  6ec63d4aa5de5dd     19e2e     19e2e  5fb791cf56  65efe2bc62  \n4998  1a49f8b0ded9de6     19e2e     19e2e  7773627c12  9ef9616350  \n4999  bd663f07b6c8bcd     19e2e     19e2e  3f4af49d6c  969b8d0e39  \n5000  3600efd094f2225     19e2e     19e2e  6f4d9b77a5  ebfc58af70  \n\n[5001 rows x 10 columns]"
     },
     "execution_count": 15,
     "metadata": {},
     "output_type": "execute_result"
    }
   ],
   "source": [
    "#We load the dataframe and see how it looks like \n",
    "df_telcom_day_1 = pd.read_csv('Telcom_dataset.csv')\n",
    "\n",
    "\n",
    "df_telcom_day_1"
   ]
  },
  {
   "cell_type": "code",
   "execution_count": 16,
   "metadata": {},
   "outputs": [
    {
     "data": {
      "text/html": "<div>\n<style scoped>\n    .dataframe tbody tr th:only-of-type {\n        vertical-align: middle;\n    }\n\n    .dataframe tbody tr th {\n        vertical-align: top;\n    }\n\n    .dataframe thead th {\n        text-align: right;\n    }\n</style>\n<table border=\"1\" class=\"dataframe\">\n  <thead>\n    <tr style=\"text-align: right;\">\n      <th></th>\n      <th>PRODUCT</th>\n      <th>VALUE</th>\n      <th>DATE_TIME</th>\n      <th>CELL_ON_SITE</th>\n      <th>DW_A_NUMBER</th>\n      <th>DW_B_NUMBER</th>\n      <th>COUNTRY_A</th>\n      <th>COUNTRY_B</th>\n      <th>CELL_ID</th>\n      <th>SITE_ID</th>\n    </tr>\n  </thead>\n  <tbody>\n    <tr>\n      <th>0</th>\n      <td>sms</td>\n      <td>0</td>\n      <td>2012-05-07 23:02:06.0</td>\n      <td>2</td>\n      <td>32255675c3b6fe3</td>\n      <td>1aa7ae01386e9fb</td>\n      <td>19e2e</td>\n      <td>19e2e</td>\n      <td>+854AcBQT2</td>\n      <td>+854AcBQT2</td>\n    </tr>\n    <tr>\n      <th>1</th>\n      <td>Voice</td>\n      <td>0</td>\n      <td>2012-05-07 23:03:44.0</td>\n      <td>1</td>\n      <td>ff16d6ac74c1c64</td>\n      <td>87d87309c15a8c9</td>\n      <td>19e2e</td>\n      <td>19e2e</td>\n      <td>+854AcBQT2</td>\n      <td>+854AcBQT2</td>\n    </tr>\n    <tr>\n      <th>2</th>\n      <td>sms</td>\n      <td>0</td>\n      <td>2012-05-07 23:04:06.0</td>\n      <td>0</td>\n      <td>98d9f2fb5ff624b</td>\n      <td>93343ba6e41af95</td>\n      <td>19e2e</td>\n      <td>19e2e</td>\n      <td>+laSrk7g6q</td>\n      <td>+laSrk7g6q</td>\n    </tr>\n    <tr>\n      <th>3</th>\n      <td>Voice</td>\n      <td>37</td>\n      <td>2012-05-07 23:04:48.0</td>\n      <td>1</td>\n      <td>3f9c8a33ec7be1f</td>\n      <td>7d05a38f89c49d8</td>\n      <td>19e2e</td>\n      <td>19e2e</td>\n      <td>/xvRrCVKoQ</td>\n      <td>/xvRrCVKoQ</td>\n    </tr>\n    <tr>\n      <th>4</th>\n      <td>sms</td>\n      <td>25</td>\n      <td>2012-05-07 23:04:58.0</td>\n      <td>1</td>\n      <td>7bcccc03adf3864</td>\n      <td>56a5d5430d2fa86</td>\n      <td>19e2e</td>\n      <td>19e2e</td>\n      <td>+bO+qkSonO</td>\n      <td>+bO+qkSonO</td>\n    </tr>\n    <tr>\n      <th>...</th>\n      <td>...</td>\n      <td>...</td>\n      <td>...</td>\n      <td>...</td>\n      <td>...</td>\n      <td>...</td>\n      <td>...</td>\n      <td>...</td>\n      <td>...</td>\n      <td>...</td>\n    </tr>\n    <tr>\n      <th>4996</th>\n      <td>sms</td>\n      <td>0</td>\n      <td>2012-05-08 00:01:53.0</td>\n      <td>8</td>\n      <td>22ffbbb8ac8cde1</td>\n      <td>8db839a0c08bd54</td>\n      <td>19e2e</td>\n      <td>19e2e</td>\n      <td>896459aace</td>\n      <td>b7d00e59e4</td>\n    </tr>\n    <tr>\n      <th>4997</th>\n      <td>sms</td>\n      <td>25</td>\n      <td>2012-05-08 00:01:53.0</td>\n      <td>0</td>\n      <td>bcf512a3542d42c</td>\n      <td>5a2848d6f983c31</td>\n      <td>19e2e</td>\n      <td>19e2e</td>\n      <td>7e90b35166</td>\n      <td>211015b14d</td>\n    </tr>\n    <tr>\n      <th>4998</th>\n      <td>sms</td>\n      <td>0</td>\n      <td>2012-05-08 00:01:53.0</td>\n      <td>0</td>\n      <td>05e3c3d41628a9f</td>\n      <td>7185a95077eae9e</td>\n      <td>19e2e</td>\n      <td>19e2e</td>\n      <td>fe70e431df</td>\n      <td>c7ea989264</td>\n    </tr>\n    <tr>\n      <th>4999</th>\n      <td>data</td>\n      <td>0</td>\n      <td>2012-05-08 00:01:53.0</td>\n      <td>_</td>\n      <td>86a4dbf018f6f24</td>\n      <td>5a4dc9e82deb309</td>\n      <td>19e2e</td>\n      <td>OTHER</td>\n      <td>ffa6759bb2</td>\n      <td>NaN</td>\n    </tr>\n    <tr>\n      <th>5000</th>\n      <td>Voice</td>\n      <td>0</td>\n      <td>2012-05-08 00:01:53.0</td>\n      <td>0</td>\n      <td>a03c9837c62a5b9</td>\n      <td>de590e98879fa37</td>\n      <td>19e2e</td>\n      <td>19e2e</td>\n      <td>8630058aca</td>\n      <td>b47a998a3e</td>\n    </tr>\n  </tbody>\n</table>\n<p>5001 rows × 10 columns</p>\n</div>",
      "text/plain": "     PRODUCT  VALUE              DATE_TIME CELL_ON_SITE      DW_A_NUMBER  \\\n0        sms      0  2012-05-07 23:02:06.0            2  32255675c3b6fe3   \n1      Voice      0  2012-05-07 23:03:44.0            1  ff16d6ac74c1c64   \n2        sms      0  2012-05-07 23:04:06.0            0  98d9f2fb5ff624b   \n3      Voice     37  2012-05-07 23:04:48.0            1  3f9c8a33ec7be1f   \n4        sms     25  2012-05-07 23:04:58.0            1  7bcccc03adf3864   \n...      ...    ...                    ...          ...              ...   \n4996     sms      0  2012-05-08 00:01:53.0            8  22ffbbb8ac8cde1   \n4997     sms     25  2012-05-08 00:01:53.0            0  bcf512a3542d42c   \n4998     sms      0  2012-05-08 00:01:53.0            0  05e3c3d41628a9f   \n4999    data      0  2012-05-08 00:01:53.0            _  86a4dbf018f6f24   \n5000   Voice      0  2012-05-08 00:01:53.0            0  a03c9837c62a5b9   \n\n          DW_B_NUMBER COUNTRY_A COUNTRY_B     CELL_ID     SITE_ID  \n0     1aa7ae01386e9fb     19e2e     19e2e  +854AcBQT2  +854AcBQT2  \n1     87d87309c15a8c9     19e2e     19e2e  +854AcBQT2  +854AcBQT2  \n2     93343ba6e41af95     19e2e     19e2e  +laSrk7g6q  +laSrk7g6q  \n3     7d05a38f89c49d8     19e2e     19e2e  /xvRrCVKoQ  /xvRrCVKoQ  \n4     56a5d5430d2fa86     19e2e     19e2e  +bO+qkSonO  +bO+qkSonO  \n...               ...       ...       ...         ...         ...  \n4996  8db839a0c08bd54     19e2e     19e2e  896459aace  b7d00e59e4  \n4997  5a2848d6f983c31     19e2e     19e2e  7e90b35166  211015b14d  \n4998  7185a95077eae9e     19e2e     19e2e  fe70e431df  c7ea989264  \n4999  5a4dc9e82deb309     19e2e     OTHER  ffa6759bb2         NaN  \n5000  de590e98879fa37     19e2e     19e2e  8630058aca  b47a998a3e  \n\n[5001 rows x 10 columns]"
     },
     "execution_count": 16,
     "metadata": {},
     "output_type": "execute_result"
    }
   ],
   "source": [
    "# We then load the Telcom_dataset2.csv file \n",
    "\n",
    "df_telcom_day_2 = pd.read_csv('Telcom_dataset2.csv')\n",
    "\n",
    "df_telcom_day_2"
   ]
  }
 ],
 "metadata": {
  "kernelspec": {
   "display_name": "Python 3.9.0 64-bit ('3.9')",
   "name": "python390jvsc74a57bd0b8bdd4e700647ba2b08c59e5df8b7da1dcf50a218bcd4c1bcd9b3dc92e8788e5"
  },
  "language_info": {
   "codemirror_mode": {
    "name": "ipython",
    "version": 3
   },
   "file_extension": ".py",
   "mimetype": "text/x-python",
   "name": "python",
   "nbconvert_exporter": "python",
   "pygments_lexer": "ipython3",
   "version": "3.9.0"
  },
  "metadata": {
   "interpreter": {
    "hash": "b8bdd4e700647ba2b08c59e5df8b7da1dcf50a218bcd4c1bcd9b3dc92e8788e5"
   }
  },
  "orig_nbformat": 3
 },
 "nbformat": 4,
 "nbformat_minor": 2
}